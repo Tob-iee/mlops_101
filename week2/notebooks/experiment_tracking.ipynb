{
 "cells": [
  {
   "cell_type": "code",
   "execution_count": null,
   "id": "18e78b34",
   "metadata": {},
   "outputs": [],
   "source": []
  },
  {
   "cell_type": "code",
   "execution_count": 1,
   "id": "a8b50caf",
   "metadata": {},
   "outputs": [],
   "source": [
    "import pandas as pd\n",
    "import seaborn as sns\n",
    "import matplotlib.pyplot as plt\n",
    "import numpy as np\n",
    "\n",
    "\n",
    "from sklearn.feature_extraction import DictVectorizer\n",
    "from sklearn.linear_model import LinearRegression\n",
    "from sklearn.metrics import mean_squared_error\n",
    "\n",
    "import pickle"
   ]
  },
  {
   "cell_type": "code",
   "execution_count": 2,
   "id": "c157e071",
   "metadata": {},
   "outputs": [],
   "source": [
    "# read and preprocess dataset\n",
    "def data_prep(file):\n",
    "    # Load January data\n",
    "    df = pd.read_parquet(file)\n",
    "    # get the total time of the trip  by taking the time difference\n",
    "    df[\"duration\"] = df[\"dropOff_datetime\"] - df[\"pickup_datetime\"]\n",
    "    # convert the time duration from days to minutes format\n",
    "    df[\"duration\"] = df[\"duration\"].apply(lambda dur:dur.total_seconds()/60)\n",
    "    # filter the dataset based on duration (in mins)\n",
    "    df = df[(df[\"duration\"]>1)&(df[\"duration\"]<=60)]\n",
    "    # replace NaN value in some columns with value -1  \n",
    "    df[[\"PUlocationID\", \"DOlocationID\"]] = df[[\"PUlocationID\", \"DOlocationID\"]].fillna(-1)\n",
    "    # select the pick up location, drop off location and ride duration columns\n",
    "    df_preped = df[[\"PUlocationID\", \"DOlocationID\", \"duration\"]]\n",
    "    \n",
    "    return df_preped"
   ]
  },
  {
   "cell_type": "code",
   "execution_count": 3,
   "id": "0c572fcc",
   "metadata": {},
   "outputs": [
    {
     "data": {
      "text/plain": [
       "(1109205, 3)"
      ]
     },
     "execution_count": 3,
     "metadata": {},
     "output_type": "execute_result"
    }
   ],
   "source": [
    "train_df = data_prep('/home/nwoke/Documents/git_cloned/Github/mlops_101/data/fhv_tripdata_2021-01.parquet')\n",
    "train_df.shape"
   ]
  },
  {
   "cell_type": "code",
   "execution_count": 9,
   "id": "32564425",
   "metadata": {},
   "outputs": [
    {
     "data": {
      "text/plain": [
       "(989674, 3)"
      ]
     },
     "execution_count": 9,
     "metadata": {},
     "output_type": "execute_result"
    }
   ],
   "source": [
    "test_df = data_prep('/home/nwoke/Documents/git_cloned/Github/mlops_101/data/fhv_tripdata_2021-02.parquet')\n",
    "test_df.shape"
   ]
  },
  {
   "cell_type": "code",
   "execution_count": 5,
   "id": "f848fa42",
   "metadata": {},
   "outputs": [],
   "source": [
    "categorical = [\"PUlocationID\", \"DOlocationID\"]"
   ]
  },
  {
   "cell_type": "code",
   "execution_count": 6,
   "id": "395a1ebd",
   "metadata": {},
   "outputs": [],
   "source": [
    "# one hot encode the features by using the dict vectorizer\n",
    "dv = DictVectorizer()\n",
    "\n",
    "train_df[categorical] = train_df[categorical].astype(str)\n",
    "train_df_ = train_df[categorical].to_dict(orient=\"records\")\n",
    "X_train = dv.fit_transform(train_df_)\n",
    "\n",
    "test_df[categorical] = test_df[categorical].astype(str)\n",
    "test_df_ = test_df[categorical].to_dict(orient=\"records\")\n",
    "X_val = dv.transform(test_df_)\n"
   ]
  },
  {
   "cell_type": "code",
   "execution_count": 7,
   "id": "77198e73",
   "metadata": {},
   "outputs": [],
   "source": [
    "# get the labels\n",
    "y_train = train_df[\"duration\"].values\n",
    "y_val = test_df[\"duration\"].values"
   ]
  },
  {
   "cell_type": "code",
   "execution_count": 8,
   "id": "885baa4f",
   "metadata": {},
   "outputs": [
    {
     "data": {
      "text/plain": [
       "11.008906627791399"
      ]
     },
     "execution_count": 8,
     "metadata": {},
     "output_type": "execute_result"
    }
   ],
   "source": [
    "# model fitting\n",
    "lr = LinearRegression()\n",
    "lr.fit(X_train, y_train)\n",
    "\n",
    "# predict the trip duration for feburary data\n",
    "y_pred = lr.predict(X_val)\n",
    "\n",
    "# model evaluation\n",
    "mean_squared_error(y_pred, y_val, squared=False)"
   ]
  },
  {
   "cell_type": "code",
   "execution_count": 12,
   "id": "ddad2d9c",
   "metadata": {},
   "outputs": [],
   "source": [
    "# dump the model and one-hot encoding object as a pickle file\n",
    "with open(\"/home/nwoke/Documents/git_cloned/Github/mlops_101/week1/models/linear_model.bin\", \"wb\") as f_out:\n",
    "    pickle.dump((dv, lr), f_out)"
   ]
  },
  {
   "cell_type": "code",
   "execution_count": null,
   "id": "10fa85b9",
   "metadata": {},
   "outputs": [],
   "source": []
  },
  {
   "cell_type": "code",
   "execution_count": null,
   "id": "c56a24a3",
   "metadata": {},
   "outputs": [],
   "source": []
  }
 ],
 "metadata": {
  "kernelspec": {
   "display_name": "Python 3 (ipykernel)",
   "language": "python",
   "name": "python3"
  },
  "language_info": {
   "codemirror_mode": {
    "name": "ipython",
    "version": 3
   },
   "file_extension": ".py",
   "mimetype": "text/x-python",
   "name": "python",
   "nbconvert_exporter": "python",
   "pygments_lexer": "ipython3",
   "version": "3.8.13"
  }
 },
 "nbformat": 4,
 "nbformat_minor": 5
}
